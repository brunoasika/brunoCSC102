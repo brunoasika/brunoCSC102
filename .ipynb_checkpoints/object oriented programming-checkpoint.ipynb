{
 "cells": [
  {
   "cell_type": "code",
   "execution_count": 4,
   "metadata": {},
   "outputs": [
    {
     "name": "stdout",
     "output_type": "stream",
     "text": [
      "enter a length: 34\n",
      "enter a breadth: 4\n",
      "enter a radius: 35\n",
      "area of a rectangle:  136\n",
      "area of a circle:  3846.5\n"
     ]
    }
   ],
   "source": [
    "#abstraction\n",
    "from abc import ABC, abstractmethod\n",
    "class Shape(ABC):\n",
    "    @abstractmethod\n",
    "    def calculate_area(self):\n",
    "        pass\n",
    "class Rectangle(Shape):\n",
    "    length = int(input(\"enter a length: \"))\n",
    "    breadth = int(input(\"enter a breadth: \"))\n",
    "    def calculate_area(self):\n",
    "        return self.length * self.breadth\n",
    "    \n",
    "class Circle(Shape):\n",
    "    radius = int(input(\"enter a radius: \"))\n",
    "    def calculate_area(self):\n",
    "        return (3.14 * (self.radius ** 2))\n",
    "\n",
    "rec = Rectangle()\n",
    "cir = Circle()\n",
    "print(\"area of a rectangle: \", rec.calculate_area())\n",
    "print(\"area of a circle: \", cir.calculate_area())"
   ]
  },
  {
   "cell_type": "code",
   "execution_count": 5,
   "metadata": {},
   "outputs": [
    {
     "name": "stdout",
     "output_type": "stream",
     "text": [
      "there are many types of birds.\n",
      "most of the birds can fly but some cannot.\n",
      "there are many types of birds.\n",
      "sparrows can fly.\n",
      "there are many types of birds.\n",
      "ostrich cannot fly\n"
     ]
    }
   ],
   "source": [
    "#polymorphism with inheritance\n",
    "class Bird:\n",
    "    def intro(self):\n",
    "        print(\"there are many types of birds.\")\n",
    "        \n",
    "    def flight(self):\n",
    "        print(\"most of the birds can fly but some cannot.\")\n",
    "        \n",
    "class sparrow(Bird):\n",
    "    def flight(self):\n",
    "        print(\"sparrows can fly.\")\n",
    "        \n",
    "class ostrich(Bird):\n",
    "    def flight(self):\n",
    "        print(\"ostrich cannot fly\")\n",
    "        \n",
    "obj_bird = Bird()\n",
    "obj_spr = sparrow()\n",
    "obj_ost = ostrich()\n",
    "\n",
    "obj_bird.intro()\n",
    "obj_bird.flight()\n",
    "\n",
    "obj_spr.intro()\n",
    "obj_spr.flight()\n",
    "\n",
    "obj_ost.intro()\n",
    "obj_ost.flight()"
   ]
  },
  {
   "cell_type": "code",
   "execution_count": 10,
   "metadata": {},
   "outputs": [
    {
     "name": "stdout",
     "output_type": "stream",
     "text": [
      "this is what birds do.\n",
      "hens move like dunces.\n",
      "this is what birds do.\n",
      "ostriches run fast to move.\n"
     ]
    }
   ],
   "source": [
    "from abc import ABC, abstractmethod\n",
    "class Bird(ABC):\n",
    "    def defecate(self):\n",
    "        print(\"this is what birds do.\")\n",
    "    \n",
    "    @abstractmethod\n",
    "    def move(self):\n",
    "        print(\"this is how birds move around.\")\n",
    "        pass\n",
    "        \n",
    "class Hen(Bird):\n",
    "    def move(self):\n",
    "        print(\"hens move like dunces.\")\n",
    "    \n",
    "class Ostrich(Bird):\n",
    "    def move(self):\n",
    "        print(\"ostriches run fast to move.\")\n",
    "\n",
    "nut = Hen()\n",
    "bolt = Ostrich()\n",
    "\n",
    "\n",
    "\n",
    "nut.defecate()\n",
    "nut.move()\n",
    "bolt.defecate()\n",
    "bolt.move()\n"
   ]
  },
  {
   "cell_type": "code",
   "execution_count": null,
   "metadata": {},
   "outputs": [],
   "source": []
  }
 ],
 "metadata": {
  "kernelspec": {
   "display_name": "Python 3",
   "language": "python",
   "name": "python3"
  },
  "language_info": {
   "codemirror_mode": {
    "name": "ipython",
    "version": 3
   },
   "file_extension": ".py",
   "mimetype": "text/x-python",
   "name": "python",
   "nbconvert_exporter": "python",
   "pygments_lexer": "ipython3",
   "version": "3.8.5"
  }
 },
 "nbformat": 4,
 "nbformat_minor": 4
}
