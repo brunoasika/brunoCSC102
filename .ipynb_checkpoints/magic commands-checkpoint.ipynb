{
 "cells": [
  {
   "cell_type": "code",
   "execution_count": 1,
   "metadata": {},
   "outputs": [
    {
     "name": "stderr",
     "output_type": "stream",
     "text": [
      "Matplotlib is building the font cache; this may take a moment.\n"
     ]
    }
   ],
   "source": [
    "%matplotlib inline"
   ]
  },
  {
   "cell_type": "code",
   "execution_count": 2,
   "metadata": {},
   "outputs": [
    {
     "data": {
      "text/plain": [
       "{'ALLUSERSPROFILE': 'C:\\\\ProgramData',\n",
       " 'APPDATA': 'C:\\\\Users\\\\qqbs\\\\AppData\\\\Roaming',\n",
       " 'COMMONPROGRAMFILES': 'C:\\\\Program Files\\\\Common Files',\n",
       " 'COMMONPROGRAMFILES(X86)': 'C:\\\\Program Files (x86)\\\\Common Files',\n",
       " 'COMMONPROGRAMW6432': 'C:\\\\Program Files\\\\Common Files',\n",
       " 'COMPUTERNAME': 'BRUNO-ASIKA',\n",
       " 'COMSPEC': 'C:\\\\WINDOWS\\\\system32\\\\cmd.exe',\n",
       " 'CONDA_DEFAULT_ENV': 'base',\n",
       " 'CONDA_EXE': 'C:\\\\ProgramData\\\\Anaconda3\\\\Scripts\\\\conda.exe',\n",
       " 'CONDA_PROMPT_MODIFIER': '(base) ',\n",
       " 'CONDA_PYTHON_EXE': 'C:\\\\ProgramData\\\\Anaconda3\\\\python.exe',\n",
       " 'CONDA_ROOT': 'C:\\\\ProgramData\\\\Anaconda3',\n",
       " 'CONDA_SHLVL': '1',\n",
       " 'DRIVERDATA': 'C:\\\\Windows\\\\System32\\\\Drivers\\\\DriverData',\n",
       " 'HOMEDRIVE': 'C:',\n",
       " 'HOMEPATH': '\\\\Users\\\\qqbs',\n",
       " 'LOCALAPPDATA': 'C:\\\\Users\\\\qqbs\\\\AppData\\\\Local',\n",
       " 'LOGONSERVER': '\\\\\\\\BRUNO-ASIKA',\n",
       " 'NUMBER_OF_PROCESSORS': '4',\n",
       " 'ONEDRIVE': 'C:\\\\Users\\\\qqbs\\\\OneDrive',\n",
       " 'ONEDRIVECONSUMER': 'C:\\\\Users\\\\qqbs\\\\OneDrive',\n",
       " 'OS': 'Windows_NT',\n",
       " 'PATH': 'C:\\\\ProgramData\\\\Anaconda3;C:\\\\ProgramData\\\\Anaconda3\\\\Library\\\\mingw-w64\\\\bin;C:\\\\ProgramData\\\\Anaconda3\\\\Library\\\\usr\\\\bin;C:\\\\ProgramData\\\\Anaconda3\\\\Library\\\\bin;C:\\\\ProgramData\\\\Anaconda3\\\\Scripts;C:\\\\ProgramData\\\\Anaconda3\\\\bin;C:\\\\ProgramData\\\\Anaconda3\\\\condabin;C:\\\\ProgramData\\\\Anaconda3;C:\\\\ProgramData\\\\Anaconda3\\\\Library\\\\mingw-w64\\\\bin;C:\\\\ProgramData\\\\Anaconda3\\\\Library\\\\usr\\\\bin;C:\\\\ProgramData\\\\Anaconda3\\\\Library\\\\bin;C:\\\\ProgramData\\\\Anaconda3\\\\Scripts;C:\\\\WINDOWS\\\\system32;C:\\\\WINDOWS;C:\\\\WINDOWS\\\\System32\\\\Wbem;C:\\\\WINDOWS\\\\System32\\\\WindowsPowerShell\\\\v1.0;C:\\\\WINDOWS\\\\System32\\\\OpenSSH;C:\\\\Program Files\\\\Git\\\\cmd;C:\\\\Users\\\\qqbs\\\\AppData\\\\Local\\\\Microsoft\\\\WindowsApps;C:\\\\Users\\\\qqbs\\\\AppData\\\\Local\\\\Programs\\\\MiKTeX\\\\miktex\\\\bin\\\\x64;C:\\\\Program Files\\\\MiKTeX\\\\miktex\\\\bin\\\\x64',\n",
       " 'PATHEXT': '.COM;.EXE;.BAT;.CMD;.VBS;.VBE;.JS;.JSE;.WSF;.WSH;.MSC',\n",
       " 'PROCESSOR_ARCHITECTURE': 'AMD64',\n",
       " 'PROCESSOR_IDENTIFIER': 'Intel64 Family 6 Model 42 Stepping 7, GenuineIntel',\n",
       " 'PROCESSOR_LEVEL': '6',\n",
       " 'PROCESSOR_REVISION': '2a07',\n",
       " 'PROGRAMDATA': 'C:\\\\ProgramData',\n",
       " 'PROGRAMFILES': 'C:\\\\Program Files',\n",
       " 'PROGRAMFILES(X86)': 'C:\\\\Program Files (x86)',\n",
       " 'PROGRAMW6432': 'C:\\\\Program Files',\n",
       " 'PROMPT': '(base) $P$G',\n",
       " 'PSMODULEPATH': 'C:\\\\Program Files\\\\WindowsPowerShell\\\\Modules;C:\\\\WINDOWS\\\\system32\\\\WindowsPowerShell\\\\v1.0\\\\Modules',\n",
       " 'PUBLIC': 'C:\\\\Users\\\\Public',\n",
       " 'SESSIONNAME': 'Console',\n",
       " 'SYSTEMDRIVE': 'C:',\n",
       " 'SYSTEMROOT': 'C:\\\\WINDOWS',\n",
       " 'TEMP': 'C:\\\\Users\\\\qqbs\\\\AppData\\\\Local\\\\Temp',\n",
       " 'TMP': 'C:\\\\Users\\\\qqbs\\\\AppData\\\\Local\\\\Temp',\n",
       " 'USERDOMAIN': 'BRUNO-ASIKA',\n",
       " 'USERDOMAIN_ROAMINGPROFILE': 'BRUNO-ASIKA',\n",
       " 'USERNAME': 'qqbs',\n",
       " 'USERPROFILE': 'C:\\\\Users\\\\qqbs',\n",
       " 'WINDIR': 'C:\\\\WINDOWS',\n",
       " 'CONDA_PREFIX': 'C:\\\\ProgramData\\\\Anaconda3',\n",
       " 'JPY_INTERRUPT_EVENT': '2392',\n",
       " 'IPY_INTERRUPT_EVENT': '2392',\n",
       " 'JPY_PARENT_PID': '2396',\n",
       " 'TERM': 'xterm-color',\n",
       " 'CLICOLOR': '1',\n",
       " 'PAGER': 'cat',\n",
       " 'GIT_PAGER': 'cat',\n",
       " 'MPLBACKEND': 'module://ipykernel.pylab.backend_inline'}"
      ]
     },
     "execution_count": 2,
     "metadata": {},
     "output_type": "execute_result"
    }
   ],
   "source": [
    "%env"
   ]
  },
  {
   "cell_type": "code",
   "execution_count": 5,
   "metadata": {},
   "outputs": [
    {
     "name": "stdout",
     "output_type": "stream",
     "text": [
      "Object `<variable>` not found.\n"
     ]
    }
   ],
   "source": [
    "%pinfo <variable>"
   ]
  },
  {
   "cell_type": "code",
   "execution_count": 6,
   "metadata": {},
   "outputs": [
    {
     "data": {
      "text/plain": [
       "'C:\\\\Users\\\\qqbs\\\\Documents\\\\brunoCSC102'"
      ]
     },
     "execution_count": 6,
     "metadata": {},
     "output_type": "execute_result"
    }
   ],
   "source": [
    "%pwd"
   ]
  },
  {
   "cell_type": "code",
   "execution_count": 7,
   "metadata": {},
   "outputs": [
    {
     "name": "stdout",
     "output_type": "stream",
     "text": [
      "C:\\Users\\qqbs\n"
     ]
    }
   ],
   "source": [
    "%cd"
   ]
  },
  {
   "cell_type": "code",
   "execution_count": 10,
   "metadata": {},
   "outputs": [
    {
     "name": "stdout",
     "output_type": "stream",
     "text": [
      " Volume in drive C has no label.\n",
      " Volume Serial Number is 6692-A842\n",
      "\n",
      " Directory of C:\\Users\\qqbs\n",
      "\n",
      "04/23/2021  08:00 PM    <DIR>          .\n",
      "04/23/2021  08:00 PM    <DIR>          ..\n",
      "04/23/2021  09:02 PM    <DIR>          .conda\n",
      "04/23/2021  07:32 PM                43 .condarc\n",
      "04/09/2021  01:46 AM                56 .gitconfig\n",
      "02/10/2021  07:43 PM    <DIR>          .ipython\n",
      "04/15/2021  03:19 PM    <DIR>          .jupyter\n",
      "04/23/2021  08:00 PM    <DIR>          .matplotlib\n",
      "02/25/2021  06:39 PM    <DIR>          3D Objects\n",
      "02/09/2021  11:55 AM    <DIR>          anaconda3\n",
      "01/28/2021  09:05 AM             4,682 bruno codes.ipynb\n",
      "02/25/2021  06:39 PM    <DIR>          Contacts\n",
      "04/15/2021  04:37 PM    <DIR>          Documents\n",
      "04/23/2021  08:53 PM    <DIR>          Downloads\n",
      "02/25/2021  06:39 PM    <DIR>          Favorites\n",
      "02/25/2021  06:39 PM    <DIR>          Links\n",
      "02/25/2021  06:39 PM    <DIR>          Music\n",
      "04/23/2021  07:08 PM    <DIR>          OneDrive\n",
      "02/08/2021  11:56 PM    <DIR>          Pictures\n",
      "02/25/2021  06:39 PM    <DIR>          Saved Games\n",
      "02/25/2021  06:39 PM    <DIR>          Searches\n",
      "04/23/2021  08:53 PM    <DIR>          series and movies\n",
      "01/28/2021  08:58 AM             3,885 Untitled.ipynb\n",
      "01/28/2021  08:58 AM             3,885 Untitled-Copy1.ipynb\n",
      "02/25/2021  06:39 PM    <DIR>          Videos\n",
      "               5 File(s)         12,551 bytes\n",
      "              20 Dir(s)  541,027,049,472 bytes free\n"
     ]
    }
   ],
   "source": [
    "%ls"
   ]
  },
  {
   "cell_type": "code",
   "execution_count": 11,
   "metadata": {},
   "outputs": [
    {
     "name": "stdout",
     "output_type": "stream",
     "text": [
      "%matplotlib inline\n",
      "%env\n",
      "%pinfo <variable>\n",
      "%pinfo<variable>\n",
      "%pinfo <variable>\n",
      "%pwd\n",
      "%cd\n",
      "%is\n",
      "%Is\n",
      "%ls\n",
      "%history\n"
     ]
    }
   ],
   "source": [
    "%history"
   ]
  },
  {
   "cell_type": "code",
   "execution_count": null,
   "metadata": {},
   "outputs": [],
   "source": []
  }
 ],
 "metadata": {
  "kernelspec": {
   "display_name": "Python 3",
   "language": "python",
   "name": "python3"
  },
  "language_info": {
   "codemirror_mode": {
    "name": "ipython",
    "version": 3
   },
   "file_extension": ".py",
   "mimetype": "text/x-python",
   "name": "python",
   "nbconvert_exporter": "python",
   "pygments_lexer": "ipython3",
   "version": "3.8.5"
  }
 },
 "nbformat": 4,
 "nbformat_minor": 4
}
