{
 "cells": [
  {
   "cell_type": "code",
   "execution_count": 15,
   "metadata": {},
   "outputs": [
    {
     "ename": "SyntaxError",
     "evalue": "invalid syntax (<ipython-input-15-9f8abb415160>, line 23)",
     "output_type": "error",
     "traceback": [
      "\u001b[1;36m  File \u001b[1;32m\"<ipython-input-15-9f8abb415160>\"\u001b[1;36m, line \u001b[1;32m23\u001b[0m\n\u001b[1;33m    customer1.calculator()\u001b[0m\n\u001b[1;37m    ^\u001b[0m\n\u001b[1;31mSyntaxError\u001b[0m\u001b[1;31m:\u001b[0m invalid syntax\n"
     ]
    }
   ],
   "source": [
    "b = 0\n",
    "class Onlinestore:\n",
    "    a = (int(input(\"enter number of items bought: \"))) \n",
    "\n",
    "    def __init__(self, numberOfitemsbought, totalcost):\n",
    "        self.numberOfitemsbought = numberOfitemsbought\n",
    "        self.totalcost = totalcost\n",
    "        \n",
    "    def calculator(self):\n",
    "        if a < 10 and self.totalcost > 100000:\n",
    "            self.totalcost = a - 0.1*a\n",
    "            print(\"you have a discount of ten percent\", self.totalcost)\n",
    "            \n",
    "        elif a > 10 and self.totalcost > 100000:\n",
    "            self.totalcost = a - 0.1*a\n",
    "            print(\"you have a discount of ten percent and a reward\", self.totalcost)\n",
    "            \n",
    "        else:\n",
    "            self.totalcost = a*100\n",
    "            print(\"your total cost is: \", self.totalcost)\n",
    "        \n",
    "customer1 = (230 \n",
    "customer1.calculator()\n",
    "print(f\"to)\n",
    "        "
   ]
  },
  {
   "cell_type": "code",
   "execution_count": null,
   "metadata": {},
   "outputs": [],
   "source": []
  }
 ],
 "metadata": {
  "kernelspec": {
   "display_name": "Python 3",
   "language": "python",
   "name": "python3"
  },
  "language_info": {
   "codemirror_mode": {
    "name": "ipython",
    "version": 3
   },
   "file_extension": ".py",
   "mimetype": "text/x-python",
   "name": "python",
   "nbconvert_exporter": "python",
   "pygments_lexer": "ipython3",
   "version": "3.8.5"
  }
 },
 "nbformat": 4,
 "nbformat_minor": 4
}
