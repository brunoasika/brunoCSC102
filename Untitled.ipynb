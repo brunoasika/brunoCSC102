{
 "cells": [
  {
   "cell_type": "code",
   "execution_count": 3,
   "metadata": {},
   "outputs": [
    {
     "name": "stdout",
     "output_type": "stream",
     "text": [
      "0.8660254037844386\n"
     ]
    }
   ],
   "source": [
    "import math\n",
    "degrees = 60\n",
    "c = math.sin(degrees/360.0*2*math.pi)\n",
    "print(c)"
   ]
  },
  {
   "cell_type": "code",
   "execution_count": 10,
   "metadata": {},
   "outputs": [
    {
     "name": "stdout",
     "output_type": "stream",
     "text": [
      "<function print_lyrics at 0x0000010DFCC1F0D0>\n"
     ]
    }
   ],
   "source": [
    "def print_lyrics():\n",
    "    print( \"i'm a lumberjack\")\n",
    "    print(\"i sleep all night\")  \n",
    "print(print_lyrics)"
   ]
  },
  {
   "cell_type": "code",
   "execution_count": 12,
   "metadata": {},
   "outputs": [
    {
     "name": "stdout",
     "output_type": "stream",
     "text": [
      "enter a number: 607068979896\n",
      "number is not a prime number\n"
     ]
    }
   ],
   "source": [
    "q = int(input(\"enter a number: \"))\n",
    "if q <= 1:\n",
    "    print(\"number is not a prime number\")\n",
    "elif q % 2 == 0:\n",
    "    print(\"number is not a prime number\")\n",
    "else:\n",
    "    print(\"number is a prime number\")"
   ]
  },
  {
   "cell_type": "code",
   "execution_count": null,
   "metadata": {},
   "outputs": [],
   "source": []
  }
 ],
 "metadata": {
  "kernelspec": {
   "display_name": "Python 3",
   "language": "python",
   "name": "python3"
  },
  "language_info": {
   "codemirror_mode": {
    "name": "ipython",
    "version": 3
   },
   "file_extension": ".py",
   "mimetype": "text/x-python",
   "name": "python",
   "nbconvert_exporter": "python",
   "pygments_lexer": "ipython3",
   "version": "3.8.5"
  }
 },
 "nbformat": 4,
 "nbformat_minor": 4
}
